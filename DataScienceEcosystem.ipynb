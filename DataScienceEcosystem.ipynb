{
 "cells": [
  {
   "cell_type": "markdown",
   "id": "3445354f-b0f6-4b13-8a3f-2d554684f421",
   "metadata": {},
   "source": [
    "# Data Science Tools and Ecosystem"
   ]
  },
  {
   "cell_type": "markdown",
   "id": "e8d810a3-c5f0-44a9-a109-fcd8740fe8f9",
   "metadata": {},
   "source": [
    "## In this notebook, Data Science Tools and Ecosystem are summarized."
   ]
  },
  {
   "cell_type": "markdown",
   "id": "8bb70caf-6450-4d70-923f-47f6ee51d46f",
   "metadata": {},
   "source": [
    "**Objectives:**\n",
    "- List popular languages for Data Science\n",
    "- List commonly used libraries for Data Science\n",
    "- List Data Science Tools\n",
    "- How to evaluate arithmetic expression in Python"
   ]
  },
  {
   "cell_type": "markdown",
   "id": "6b0ca1c9-5326-4a61-9e28-9b651cafe2ee",
   "metadata": {},
   "source": [
    "#### Some of the popular languages that Data Scientists use are:\n",
    "\n",
    "1. Python\n",
    "2. R\n",
    "3. SQL\n",
    "4. Julia\n",
    "5. Scala\n"
   ]
  },
  {
   "cell_type": "markdown",
   "id": "cd599550-4188-4063-ba9c-9732d733835a",
   "metadata": {
    "jp-MarkdownHeadingCollapsed": true
   },
   "source": [
    "### Some of the commonly used libraries used by Data Scientists include:\n",
    "1. Scikit-learn\n",
    "2. Matplotlib\n",
    "3. NumPy\n",
    "4. Pandas\n",
    "5. PyTorch\n",
    "6. SciPy\n",
    "7. TensorFlow"
   ]
  },
  {
   "cell_type": "markdown",
   "id": "279962b8-104b-48c0-9720-e885a83fc40c",
   "metadata": {},
   "source": [
    "| Data Science Tools |\n",
    "|---|\n",
    "| Jupyter Notebook|\n",
    "|Anaconda|\n",
    "|RStudio|"
   ]
  },
  {
   "cell_type": "markdown",
   "id": "f7d20ed0-6f1f-45cb-a362-6d30aaada9fa",
   "metadata": {},
   "source": [
    "### Below are a few examples of evaluating arithmetic expressions in Python"
   ]
  },
  {
   "cell_type": "code",
   "execution_count": 5,
   "id": "b8438f98-8fbb-466f-8543-130383a9e67f",
   "metadata": {},
   "outputs": [
    {
     "data": {
      "text/plain": [
       "17"
      ]
     },
     "execution_count": 5,
     "metadata": {},
     "output_type": "execute_result"
    }
   ],
   "source": [
    "#This a simple arithmetic expression to mutiply then add integers\n",
    "(3*4)+5"
   ]
  },
  {
   "cell_type": "code",
   "execution_count": 6,
   "id": "60221852-6b26-4e2a-b1cc-d9c87f018e84",
   "metadata": {},
   "outputs": [
    {
     "name": "stdout",
     "output_type": "stream",
     "text": [
      "3.3333333333333335\n"
     ]
    }
   ],
   "source": [
    "#This will convert 200 minutes to hours by diving by 60\n",
    "minute = 200\n",
    "hours = minute/60\n",
    "print(hours)"
   ]
  },
  {
   "cell_type": "markdown",
   "id": "bc090a03-462f-4cd4-87d1-bec02b95d5eb",
   "metadata": {},
   "source": [
    "## Author\n",
    "Harvey Ompad"
   ]
  },
  {
   "cell_type": "code",
   "execution_count": null,
   "id": "a32eabdc-8f7a-4365-a0c5-de17fddab663",
   "metadata": {},
   "outputs": [],
   "source": []
  }
 ],
 "metadata": {
  "kernelspec": {
   "display_name": "Python [conda env:anaconda3-RP_Env]",
   "language": "python",
   "name": "conda-env-anaconda3-RP_Env-py"
  },
  "language_info": {
   "codemirror_mode": {
    "name": "ipython",
    "version": 3
   },
   "file_extension": ".py",
   "mimetype": "text/x-python",
   "name": "python",
   "nbconvert_exporter": "python",
   "pygments_lexer": "ipython3",
   "version": "3.13.5"
  }
 },
 "nbformat": 4,
 "nbformat_minor": 5
}
